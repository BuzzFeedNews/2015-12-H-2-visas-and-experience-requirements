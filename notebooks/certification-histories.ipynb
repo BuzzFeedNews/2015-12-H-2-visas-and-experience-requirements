{
 "cells": [
  {
   "cell_type": "markdown",
   "metadata": {},
   "source": [
    "# Certification Histories\n",
    "\n",
    "This notebook contains analyses of visa-certification data from the [Department of Labor's Office of Foreign Labor Certification](http://www.foreignlaborcert.doleta.gov/performancedata.cfm). The code below loads the data, and then produces employer-specific and agent-specific certification counts."
   ]
  },
  {
   "cell_type": "markdown",
   "metadata": {},
   "source": [
    "### Load the data"
   ]
  },
  {
   "cell_type": "code",
   "execution_count": 1,
   "metadata": {
    "collapsed": false
   },
   "outputs": [],
   "source": [
    "import pandas as pd\n",
    "import re\n",
    "from IPython.display import display, HTML\n",
    "pd.set_option(\"display.max_rows\", 25)"
   ]
  },
  {
   "cell_type": "code",
   "execution_count": 2,
   "metadata": {
    "collapsed": false
   },
   "outputs": [],
   "source": [
    "decisions = pd.read_csv(\"../data/H-2-certification-decisions.csv\", low_memory=False)\\\n",
    "    .rename(columns=dict(fy=\"fiscal_year\"))"
   ]
  },
  {
   "cell_type": "code",
   "execution_count": 3,
   "metadata": {
    "collapsed": false
   },
   "outputs": [],
   "source": [
    "to_calendar_year = lambda x: pd.to_datetime(x).year if pd.notnull(x) else None\n",
    "decisions[\"calendar_year\"] = decisions[\"last_event_date\"].apply(to_calendar_year)"
   ]
  },
  {
   "cell_type": "markdown",
   "metadata": {},
   "source": [
    "### Set up aggregation/summarization functions"
   ]
  },
  {
   "cell_type": "code",
   "execution_count": 4,
   "metadata": {
    "collapsed": false
   },
   "outputs": [],
   "source": [
    "main_cols = [\n",
    "    \"case_no\", \"visa_type\", \"last_event_date\",\n",
    "    \"employer_name\", \"employer_city\", \"employer_state\",\n",
    "    \"job_title\", \"case_status\", \"n_certified\"\n",
    "]"
   ]
  },
  {
   "cell_type": "code",
   "execution_count": 5,
   "metadata": {
    "collapsed": true
   },
   "outputs": [],
   "source": [
    "grouping_cols = {\n",
    "    \"employer\": [\n",
    "        \"employer_name\",\n",
    "        \"employer_state\",\n",
    "        \"worksite_state\",\n",
    "    ],\n",
    "    \"agent\": [ \n",
    "        \"agent_name\" \n",
    "    ] \n",
    "}"
   ]
  },
  {
   "cell_type": "code",
   "execution_count": 6,
   "metadata": {
    "collapsed": true
   },
   "outputs": [],
   "source": [
    "def agg_grouped_certs(grp):\n",
    "    by_year = pd.DataFrame({\n",
    "        \"n_certified_applications\": grp.size(),\n",
    "        \"n_certified_visas\": grp[\"n_certified\"].sum()\n",
    "    })\n",
    "    return by_year"
   ]
  },
  {
   "cell_type": "code",
   "execution_count": 7,
   "metadata": {
    "collapsed": false
   },
   "outputs": [],
   "source": [
    "def summarize_certs(subset, by=\"employer\", year_type=\"calendar_year\"):\n",
    "    certs = subset[\n",
    "        (subset[\"n_certified\"] > 0)\n",
    "    ].copy()\n",
    "    certs[\"worksite_state\"] = certs[\"worksite_state\"].fillna(\"[missing]\")\n",
    "    certs[\"worksite_city\"] = certs[\"worksite_city\"].fillna(\"[missing]\")\n",
    "    \n",
    "    grp_cols = grouping_cols[by]\n",
    "    agg = agg_grouped_certs(certs.groupby(grp_cols))\\\n",
    "        .reset_index()\\\n",
    "        .set_index(grp_cols[0])\\\n",
    "        .sort_values(\"n_certified_visas\", ascending=False)\n",
    "    \n",
    "    by_year = agg_grouped_certs(certs.groupby(year_type))\n",
    "    by_year.index = list(map(int, by_year.index))\n",
    "    by_year.loc[\"Total\"] = by_year.sum()\n",
    "\n",
    "    display(HTML(\"<h4>By {0} name:</h4>\".format(by)))\n",
    "    display(agg.fillna(\"\"))\n",
    "    display(HTML(\"<h4>By {0}:</h4>\".format(year_type.replace(\"_\", \" \"))))\n",
    "    display(by_year)"
   ]
  },
  {
   "cell_type": "code",
   "execution_count": 8,
   "metadata": {
    "collapsed": false
   },
   "outputs": [],
   "source": [
    "def search(data, column, pattern):\n",
    "    return data[\n",
    "        data[column].str.contains(pattern, case=False, na=False)\n",
    "    ]"
   ]
  },
  {
   "cell_type": "markdown",
   "metadata": {},
   "source": [
    "## Number of employers\n",
    "\n",
    "The OFLC data does not come with unique identifiers — e.g., federal tax IDs. The code below approximates the number of unique employers certified, using compressed and shortened versions of their listed names."
   ]
  },
  {
   "cell_type": "code",
   "execution_count": 9,
   "metadata": {
    "collapsed": false
   },
   "outputs": [],
   "source": [
    "non_alpha_pat = re.compile(r\"[^a-z]+\")\n",
    "def normalize_name(name):\n",
    "    lowercase = name.strip().lower().replace(\" and \", \" & \")\n",
    "    compressed = re.sub(non_alpha_pat, \"\", lowercase)\n",
    "    limit = 10\n",
    "    return compressed[:limit] if len(compressed) > limit else compressed"
   ]
  },
  {
   "cell_type": "code",
   "execution_count": 10,
   "metadata": {
    "collapsed": false
   },
   "outputs": [],
   "source": [
    "decisions[\"employer_name_norm\"] = decisions[\"employer_name\"].fillna(\"\").apply(normalize_name)"
   ]
  },
  {
   "cell_type": "code",
   "execution_count": 11,
   "metadata": {
    "collapsed": false
   },
   "outputs": [
    {
     "data": {
      "text/html": [
       "<div>\n",
       "<table border=\"1\" class=\"dataframe\">\n",
       "  <thead>\n",
       "    <tr style=\"text-align: right;\">\n",
       "      <th></th>\n",
       "      <th>n_employer_names</th>\n",
       "    </tr>\n",
       "    <tr>\n",
       "      <th>fiscal_year</th>\n",
       "      <th></th>\n",
       "    </tr>\n",
       "  </thead>\n",
       "  <tbody>\n",
       "    <tr>\n",
       "      <th>2010</th>\n",
       "      <td>7974</td>\n",
       "    </tr>\n",
       "    <tr>\n",
       "      <th>2011</th>\n",
       "      <td>7945</td>\n",
       "    </tr>\n",
       "    <tr>\n",
       "      <th>2012</th>\n",
       "      <td>8172</td>\n",
       "    </tr>\n",
       "    <tr>\n",
       "      <th>2013</th>\n",
       "      <td>8442</td>\n",
       "    </tr>\n",
       "    <tr>\n",
       "      <th>2014</th>\n",
       "      <td>9403</td>\n",
       "    </tr>\n",
       "    <tr>\n",
       "      <th>2015</th>\n",
       "      <td>10025</td>\n",
       "    </tr>\n",
       "  </tbody>\n",
       "</table>\n",
       "</div>"
      ],
      "text/plain": [
       "             n_employer_names\n",
       "fiscal_year                  \n",
       "2010                     7974\n",
       "2011                     7945\n",
       "2012                     8172\n",
       "2013                     8442\n",
       "2014                     9403\n",
       "2015                    10025"
      ]
     },
     "execution_count": 11,
     "metadata": {},
     "output_type": "execute_result"
    }
   ],
   "source": [
    "grp = decisions[\n",
    "    (decisions[\"n_certified\"] > 0) &\n",
    "    (decisions[\"fiscal_year\"] >= 2010)\n",
    "].groupby(\"fiscal_year\")\n",
    "\n",
    "pd.DataFrame({\n",
    "    \"n_employer_names\": grp[\"employer_name_norm\"].nunique()\n",
    "})"
   ]
  },
  {
   "cell_type": "markdown",
   "metadata": {},
   "source": [
    "## Total certifications\n",
    "\n",
    "Note: Certifications are not equivalent to visa issuances or admissions into the United States. Certifications are permissions from the Department of Labor to seek guest workers."
   ]
  },
  {
   "cell_type": "code",
   "execution_count": 12,
   "metadata": {
    "collapsed": false
   },
   "outputs": [
    {
     "data": {
      "text/html": [
       "<div>\n",
       "<table border=\"1\" class=\"dataframe\">\n",
       "  <thead>\n",
       "    <tr style=\"text-align: right;\">\n",
       "      <th></th>\n",
       "      <th>n_certified</th>\n",
       "    </tr>\n",
       "    <tr>\n",
       "      <th>fiscal_year</th>\n",
       "      <th></th>\n",
       "    </tr>\n",
       "  </thead>\n",
       "  <tbody>\n",
       "    <tr>\n",
       "      <th>2010</th>\n",
       "      <td>165799</td>\n",
       "    </tr>\n",
       "    <tr>\n",
       "      <th>2011</th>\n",
       "      <td>160768</td>\n",
       "    </tr>\n",
       "    <tr>\n",
       "      <th>2012</th>\n",
       "      <td>160695</td>\n",
       "    </tr>\n",
       "    <tr>\n",
       "      <th>2013</th>\n",
       "      <td>181120</td>\n",
       "    </tr>\n",
       "    <tr>\n",
       "      <th>2014</th>\n",
       "      <td>210377</td>\n",
       "    </tr>\n",
       "    <tr>\n",
       "      <th>2015</th>\n",
       "      <td>241597</td>\n",
       "    </tr>\n",
       "  </tbody>\n",
       "</table>\n",
       "</div>"
      ],
      "text/plain": [
       "             n_certified\n",
       "fiscal_year             \n",
       "2010              165799\n",
       "2011              160768\n",
       "2012              160695\n",
       "2013              181120\n",
       "2014              210377\n",
       "2015              241597"
      ]
     },
     "execution_count": 12,
     "metadata": {},
     "output_type": "execute_result"
    }
   ],
   "source": [
    "pd.DataFrame({\n",
    "    \"n_certified\": decisions[\n",
    "        (decisions[\"is_duplicate\"] != True) &\n",
    "        (decisions[\"fiscal_year\"] >= 2010)\n",
    "    ].groupby(\"fiscal_year\")[\"n_certified\"].sum()\n",
    "})"
   ]
  },
  {
   "cell_type": "markdown",
   "metadata": {},
   "source": [
    "## Linda White\n",
    "\n",
    "Certifications between Jan. 1, 2010 through Dec. 31, 2012:"
   ]
  },
  {
   "cell_type": "code",
   "execution_count": 13,
   "metadata": {
    "collapsed": false,
    "scrolled": false
   },
   "outputs": [
    {
     "data": {
      "text/html": [
       "<h4>By agent name:</h4>"
      ],
      "text/plain": [
       "<IPython.core.display.HTML object>"
      ]
     },
     "metadata": {},
     "output_type": "display_data"
    },
    {
     "data": {
      "text/html": [
       "<div>\n",
       "<table border=\"1\" class=\"dataframe\">\n",
       "  <thead>\n",
       "    <tr style=\"text-align: right;\">\n",
       "      <th></th>\n",
       "      <th>n_certified_applications</th>\n",
       "      <th>n_certified_visas</th>\n",
       "    </tr>\n",
       "    <tr>\n",
       "      <th>agent_name</th>\n",
       "      <th></th>\n",
       "      <th></th>\n",
       "    </tr>\n",
       "  </thead>\n",
       "  <tbody>\n",
       "    <tr>\n",
       "      <th>LINDA D. WHITE</th>\n",
       "      <td>368</td>\n",
       "      <td>3969</td>\n",
       "    </tr>\n",
       "    <tr>\n",
       "      <th>LINDA D. WHITE / LINDA WHITE &amp; ASSOCIATES, INC.</th>\n",
       "      <td>57</td>\n",
       "      <td>656</td>\n",
       "    </tr>\n",
       "    <tr>\n",
       "      <th>LINDA D. WHITE/LINDA WHITE &amp; ASSOCIATES, INC.</th>\n",
       "      <td>29</td>\n",
       "      <td>481</td>\n",
       "    </tr>\n",
       "    <tr>\n",
       "      <th>LINDA D. WHITE / LINDA WHITE &amp; ASSOCIATES, INC</th>\n",
       "      <td>35</td>\n",
       "      <td>464</td>\n",
       "    </tr>\n",
       "    <tr>\n",
       "      <th>LINDA D WHITE</th>\n",
       "      <td>26</td>\n",
       "      <td>421</td>\n",
       "    </tr>\n",
       "    <tr>\n",
       "      <th>LINDA WHITE</th>\n",
       "      <td>6</td>\n",
       "      <td>245</td>\n",
       "    </tr>\n",
       "    <tr>\n",
       "      <th>LINDA WHITE &amp; ASSOCIATES, INC.</th>\n",
       "      <td>22</td>\n",
       "      <td>240</td>\n",
       "    </tr>\n",
       "    <tr>\n",
       "      <th>LINDA D. WHITE/ LINDA WHITE &amp; ASSOCIATES, INC.</th>\n",
       "      <td>26</td>\n",
       "      <td>227</td>\n",
       "    </tr>\n",
       "    <tr>\n",
       "      <th>LINDA D. WHITE/ LINDA WHITE &amp; ASSOCIATES, INC</th>\n",
       "      <td>22</td>\n",
       "      <td>173</td>\n",
       "    </tr>\n",
       "    <tr>\n",
       "      <th>LINDA D. WHITE &amp; ASSOCIATES, INC/LINDA D. WHITE</th>\n",
       "      <td>13</td>\n",
       "      <td>166</td>\n",
       "    </tr>\n",
       "    <tr>\n",
       "      <th>LINDA D WHITE / LINDA WHITE AND ASSOCIATE, INC</th>\n",
       "      <td>6</td>\n",
       "      <td>106</td>\n",
       "    </tr>\n",
       "    <tr>\n",
       "      <th>LINDA D WHITE / LINDA WHITE AND ASSOCIATES, INC.</th>\n",
       "      <td>9</td>\n",
       "      <td>94</td>\n",
       "    </tr>\n",
       "    <tr>\n",
       "      <th>...</th>\n",
       "      <td>...</td>\n",
       "      <td>...</td>\n",
       "    </tr>\n",
       "    <tr>\n",
       "      <th>LINDA D WHITE/LINDA WHITE AND ASSOCIATES, INC.</th>\n",
       "      <td>1</td>\n",
       "      <td>6</td>\n",
       "    </tr>\n",
       "    <tr>\n",
       "      <th>LINDA D WHITE/LINDA WHITE AND ASSOCIATE, INC.</th>\n",
       "      <td>1</td>\n",
       "      <td>6</td>\n",
       "    </tr>\n",
       "    <tr>\n",
       "      <th>LINDA WHITE &amp; ASSOCIATES, INC./LINDA WHITE</th>\n",
       "      <td>1</td>\n",
       "      <td>6</td>\n",
       "    </tr>\n",
       "    <tr>\n",
       "      <th>LINDA WHITE AND ASSOCIATE, INC.</th>\n",
       "      <td>1</td>\n",
       "      <td>5</td>\n",
       "    </tr>\n",
       "    <tr>\n",
       "      <th>LINDA D. WHITE/LINDA WHITE AND ASSOCICATE, INC.</th>\n",
       "      <td>1</td>\n",
       "      <td>5</td>\n",
       "    </tr>\n",
       "    <tr>\n",
       "      <th>LINDA D WHITE &amp; ASSOCIATE, INC</th>\n",
       "      <td>1</td>\n",
       "      <td>3</td>\n",
       "    </tr>\n",
       "    <tr>\n",
       "      <th>LINDA D WHITE/LINDE WHITE AND ASSOCIATES, INC</th>\n",
       "      <td>1</td>\n",
       "      <td>3</td>\n",
       "    </tr>\n",
       "    <tr>\n",
       "      <th>LINDA D. WHITE/LINDA D. WHITE &amp; ASSOCIATES, INC.</th>\n",
       "      <td>1</td>\n",
       "      <td>3</td>\n",
       "    </tr>\n",
       "    <tr>\n",
       "      <th>LINDA D WHITE/ LINDA WHITE AND ASSOCIATE, INC</th>\n",
       "      <td>1</td>\n",
       "      <td>2</td>\n",
       "    </tr>\n",
       "    <tr>\n",
       "      <th>LINDA WHITE &amp; ASSOC.</th>\n",
       "      <td>1</td>\n",
       "      <td>2</td>\n",
       "    </tr>\n",
       "    <tr>\n",
       "      <th>LINDA D WHITE/ LINDA WHITE AND ASSOCIATES, INC</th>\n",
       "      <td>1</td>\n",
       "      <td>2</td>\n",
       "    </tr>\n",
       "    <tr>\n",
       "      <th>LINDA D. WHITE / LINDA WHITE AND ASSOCIATE, INC</th>\n",
       "      <td>1</td>\n",
       "      <td>2</td>\n",
       "    </tr>\n",
       "  </tbody>\n",
       "</table>\n",
       "<p>51 rows × 2 columns</p>\n",
       "</div>"
      ],
      "text/plain": [
       "                                                  n_certified_applications  \\\n",
       "agent_name                                                                   \n",
       "LINDA D. WHITE                                                         368   \n",
       "LINDA D. WHITE / LINDA WHITE & ASSOCIATES, INC.                         57   \n",
       "LINDA D. WHITE/LINDA WHITE & ASSOCIATES, INC.                           29   \n",
       "LINDA D. WHITE / LINDA WHITE & ASSOCIATES, INC                          35   \n",
       "LINDA D WHITE                                                           26   \n",
       "LINDA WHITE                                                              6   \n",
       "LINDA WHITE & ASSOCIATES, INC.                                          22   \n",
       "LINDA D. WHITE/ LINDA WHITE & ASSOCIATES, INC.                          26   \n",
       "LINDA D. WHITE/ LINDA WHITE & ASSOCIATES, INC                           22   \n",
       "LINDA D. WHITE & ASSOCIATES, INC/LINDA D. WHITE                         13   \n",
       "LINDA D WHITE / LINDA WHITE AND ASSOCIATE, INC                           6   \n",
       "LINDA D WHITE / LINDA WHITE AND ASSOCIATES, INC.                         9   \n",
       "...                                                                    ...   \n",
       "LINDA D WHITE/LINDA WHITE AND ASSOCIATES, INC.                           1   \n",
       "LINDA D WHITE/LINDA WHITE AND ASSOCIATE, INC.                            1   \n",
       "LINDA WHITE & ASSOCIATES, INC./LINDA WHITE                               1   \n",
       "LINDA WHITE AND ASSOCIATE, INC.                                          1   \n",
       "LINDA D. WHITE/LINDA WHITE AND ASSOCICATE, INC.                          1   \n",
       "LINDA D WHITE & ASSOCIATE, INC                                           1   \n",
       "LINDA D WHITE/LINDE WHITE AND ASSOCIATES, INC                            1   \n",
       "LINDA D. WHITE/LINDA D. WHITE & ASSOCIATES, INC.                         1   \n",
       "LINDA D WHITE/ LINDA WHITE AND ASSOCIATE, INC                            1   \n",
       "LINDA WHITE & ASSOC.                                                     1   \n",
       "LINDA D WHITE/ LINDA WHITE AND ASSOCIATES, INC                           1   \n",
       "LINDA D. WHITE / LINDA WHITE AND ASSOCIATE, INC                          1   \n",
       "\n",
       "                                                  n_certified_visas  \n",
       "agent_name                                                           \n",
       "LINDA D. WHITE                                                 3969  \n",
       "LINDA D. WHITE / LINDA WHITE & ASSOCIATES, INC.                 656  \n",
       "LINDA D. WHITE/LINDA WHITE & ASSOCIATES, INC.                   481  \n",
       "LINDA D. WHITE / LINDA WHITE & ASSOCIATES, INC                  464  \n",
       "LINDA D WHITE                                                   421  \n",
       "LINDA WHITE                                                     245  \n",
       "LINDA WHITE & ASSOCIATES, INC.                                  240  \n",
       "LINDA D. WHITE/ LINDA WHITE & ASSOCIATES, INC.                  227  \n",
       "LINDA D. WHITE/ LINDA WHITE & ASSOCIATES, INC                   173  \n",
       "LINDA D. WHITE & ASSOCIATES, INC/LINDA D. WHITE                 166  \n",
       "LINDA D WHITE / LINDA WHITE AND ASSOCIATE, INC                  106  \n",
       "LINDA D WHITE / LINDA WHITE AND ASSOCIATES, INC.                 94  \n",
       "...                                                             ...  \n",
       "LINDA D WHITE/LINDA WHITE AND ASSOCIATES, INC.                    6  \n",
       "LINDA D WHITE/LINDA WHITE AND ASSOCIATE, INC.                     6  \n",
       "LINDA WHITE & ASSOCIATES, INC./LINDA WHITE                        6  \n",
       "LINDA WHITE AND ASSOCIATE, INC.                                   5  \n",
       "LINDA D. WHITE/LINDA WHITE AND ASSOCICATE, INC.                   5  \n",
       "LINDA D WHITE & ASSOCIATE, INC                                    3  \n",
       "LINDA D WHITE/LINDE WHITE AND ASSOCIATES, INC                     3  \n",
       "LINDA D. WHITE/LINDA D. WHITE & ASSOCIATES, INC.                  3  \n",
       "LINDA D WHITE/ LINDA WHITE AND ASSOCIATE, INC                     2  \n",
       "LINDA WHITE & ASSOC.                                              2  \n",
       "LINDA D WHITE/ LINDA WHITE AND ASSOCIATES, INC                    2  \n",
       "LINDA D. WHITE / LINDA WHITE AND ASSOCIATE, INC                   2  \n",
       "\n",
       "[51 rows x 2 columns]"
      ]
     },
     "metadata": {},
     "output_type": "display_data"
    },
    {
     "data": {
      "text/html": [
       "<h4>By calendar year:</h4>"
      ],
      "text/plain": [
       "<IPython.core.display.HTML object>"
      ]
     },
     "metadata": {},
     "output_type": "display_data"
    },
    {
     "data": {
      "text/html": [
       "<div>\n",
       "<table border=\"1\" class=\"dataframe\">\n",
       "  <thead>\n",
       "    <tr style=\"text-align: right;\">\n",
       "      <th></th>\n",
       "      <th>n_certified_applications</th>\n",
       "      <th>n_certified_visas</th>\n",
       "    </tr>\n",
       "  </thead>\n",
       "  <tbody>\n",
       "    <tr>\n",
       "      <th>2010</th>\n",
       "      <td>219</td>\n",
       "      <td>2745</td>\n",
       "    </tr>\n",
       "    <tr>\n",
       "      <th>2011</th>\n",
       "      <td>234</td>\n",
       "      <td>2550</td>\n",
       "    </tr>\n",
       "    <tr>\n",
       "      <th>2012</th>\n",
       "      <td>258</td>\n",
       "      <td>2778</td>\n",
       "    </tr>\n",
       "    <tr>\n",
       "      <th>Total</th>\n",
       "      <td>711</td>\n",
       "      <td>8073</td>\n",
       "    </tr>\n",
       "  </tbody>\n",
       "</table>\n",
       "</div>"
      ],
      "text/plain": [
       "       n_certified_applications  n_certified_visas\n",
       "2010                        219               2745\n",
       "2011                        234               2550\n",
       "2012                        258               2778\n",
       "Total                       711               8073"
      ]
     },
     "metadata": {},
     "output_type": "display_data"
    }
   ],
   "source": [
    "linda_white_decisions = search(decisions, \"agent_name\", r\"Linda White|Linda D.? White\")\n",
    "summarize_certs(linda_white_decisions[\n",
    "    (linda_white_decisions[\"last_event_date\"] >= \"2010-01-01\") &\n",
    "    (linda_white_decisions[\"last_event_date\"] <= \"2012-12-31\") &\n",
    "    (linda_white_decisions[\"is_duplicate\"] == False)\n",
    "], by=\"agent\")"
   ]
  },
  {
   "cell_type": "markdown",
   "metadata": {},
   "source": [
    "## Fresh Harvest, 2014"
   ]
  },
  {
   "cell_type": "code",
   "execution_count": 14,
   "metadata": {
    "collapsed": false
   },
   "outputs": [
    {
     "data": {
      "text/html": [
       "<h4>By employer name:</h4>"
      ],
      "text/plain": [
       "<IPython.core.display.HTML object>"
      ]
     },
     "metadata": {},
     "output_type": "display_data"
    },
    {
     "data": {
      "text/html": [
       "<div>\n",
       "<table border=\"1\" class=\"dataframe\">\n",
       "  <thead>\n",
       "    <tr style=\"text-align: right;\">\n",
       "      <th></th>\n",
       "      <th>employer_state</th>\n",
       "      <th>worksite_state</th>\n",
       "      <th>n_certified_applications</th>\n",
       "      <th>n_certified_visas</th>\n",
       "    </tr>\n",
       "    <tr>\n",
       "      <th>employer_name</th>\n",
       "      <th></th>\n",
       "      <th></th>\n",
       "      <th></th>\n",
       "      <th></th>\n",
       "    </tr>\n",
       "  </thead>\n",
       "  <tbody>\n",
       "    <tr>\n",
       "      <th>FRESH HARVEST, INC.</th>\n",
       "      <td>CA</td>\n",
       "      <td>CA</td>\n",
       "      <td>14</td>\n",
       "      <td>1253</td>\n",
       "    </tr>\n",
       "    <tr>\n",
       "      <th>FRESH HARVEST, INC.</th>\n",
       "      <td>AZ</td>\n",
       "      <td>AZ</td>\n",
       "      <td>1</td>\n",
       "      <td>269</td>\n",
       "    </tr>\n",
       "  </tbody>\n",
       "</table>\n",
       "</div>"
      ],
      "text/plain": [
       "                    employer_state worksite_state  n_certified_applications  \\\n",
       "employer_name                                                                 \n",
       "FRESH HARVEST, INC.             CA             CA                        14   \n",
       "FRESH HARVEST, INC.             AZ             AZ                         1   \n",
       "\n",
       "                     n_certified_visas  \n",
       "employer_name                           \n",
       "FRESH HARVEST, INC.               1253  \n",
       "FRESH HARVEST, INC.                269  "
      ]
     },
     "metadata": {},
     "output_type": "display_data"
    },
    {
     "data": {
      "text/html": [
       "<h4>By calendar year:</h4>"
      ],
      "text/plain": [
       "<IPython.core.display.HTML object>"
      ]
     },
     "metadata": {},
     "output_type": "display_data"
    },
    {
     "data": {
      "text/html": [
       "<div>\n",
       "<table border=\"1\" class=\"dataframe\">\n",
       "  <thead>\n",
       "    <tr style=\"text-align: right;\">\n",
       "      <th></th>\n",
       "      <th>n_certified_applications</th>\n",
       "      <th>n_certified_visas</th>\n",
       "    </tr>\n",
       "  </thead>\n",
       "  <tbody>\n",
       "    <tr>\n",
       "      <th>2014</th>\n",
       "      <td>15</td>\n",
       "      <td>1522</td>\n",
       "    </tr>\n",
       "    <tr>\n",
       "      <th>Total</th>\n",
       "      <td>15</td>\n",
       "      <td>1522</td>\n",
       "    </tr>\n",
       "  </tbody>\n",
       "</table>\n",
       "</div>"
      ],
      "text/plain": [
       "       n_certified_applications  n_certified_visas\n",
       "2014                         15               1522\n",
       "Total                        15               1522"
      ]
     },
     "metadata": {},
     "output_type": "display_data"
    }
   ],
   "source": [
    "fresh_harvest_2014 = search(decisions[decisions[\"calendar_year\"] == 2014], \"employer_name\", \"Fresh Harvest\")\n",
    "fresh_harvest_2014_ca_cert = fresh_harvest_2014[\n",
    "    (fresh_harvest_2014[\"worksite_state\"] == \"CA\")\n",
    "][\"n_certified\"].sum()\n",
    "summarize_certs(fresh_harvest_2014)"
   ]
  },
  {
   "cell_type": "markdown",
   "metadata": {},
   "source": [
    "## California H-2A certifications, 2014"
   ]
  },
  {
   "cell_type": "code",
   "execution_count": 15,
   "metadata": {
    "collapsed": false
   },
   "outputs": [],
   "source": [
    "ca_h2a_2014_cert = decisions[\n",
    "    (decisions[\"worksite_state\"] == \"CA\") &\n",
    "    (decisions[\"visa_type\"] == \"H-2A\") &\n",
    "    (decisions[\"calendar_year\"] == 2014) &\n",
    "    (decisions[\"is_duplicate\"] == False)\n",
    "][\"n_certified\"].sum()"
   ]
  },
  {
   "cell_type": "code",
   "execution_count": 16,
   "metadata": {
    "collapsed": false
   },
   "outputs": [
    {
     "name": "stdout",
     "output_type": "stream",
     "text": [
      "In 2014, the OFLC certified employers to bring 6,001 H-2A guest workers to California, of which Fresh Harvest accounted for 21%.\n"
     ]
    }
   ],
   "source": [
    "print(\"In 2014, the OFLC certified employers to bring {0:,d} \"\n",
    "      \"H-2A guest workers to California, of which Fresh Harvest \" \n",
    "      \"accounted for {1:.0f}%.\".format(ca_h2a_2014_cert, (100.0 * fresh_harvest_2014_ca_cert) / ca_h2a_2014_cert))"
   ]
  },
  {
   "cell_type": "markdown",
   "metadata": {},
   "source": [
    "---\n",
    "\n",
    "---\n",
    "\n",
    "---"
   ]
  }
 ],
 "metadata": {
  "kernelspec": {
   "display_name": "Python 3",
   "language": "python",
   "name": "python3"
  },
  "language_info": {
   "codemirror_mode": {
    "name": "ipython",
    "version": 3
   },
   "file_extension": ".py",
   "mimetype": "text/x-python",
   "name": "python",
   "nbconvert_exporter": "python",
   "pygments_lexer": "ipython3",
   "version": "3.4.3"
  }
 },
 "nbformat": 4,
 "nbformat_minor": 0
}
